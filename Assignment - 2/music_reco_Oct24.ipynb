{
  "nbformat": 4,
  "nbformat_minor": 0,
  "metadata": {
    "colab": {
      "provenance": []
    },
    "kernelspec": {
      "name": "python3",
      "display_name": "Python 3"
    },
    "language_info": {
      "name": "python"
    }
  },
  "cells": [
    {
      "cell_type": "code",
      "execution_count": 1,
      "metadata": {
        "colab": {
          "base_uri": "https://localhost:8080/"
        },
        "id": "ctsnBUqsuldX",
        "outputId": "7d2d1b90-8aaf-40f0-9639-84720d65178e"
      },
      "outputs": [
        {
          "output_type": "stream",
          "name": "stdout",
          "text": [
            "Collecting pysqlite3\n",
            "  Downloading pysqlite3-0.5.4.tar.gz (40 kB)\n",
            "\u001b[?25l     \u001b[90m━━━━━━━━━━━━━━━━━━━━━━━━━━━━━━━━━━━━━━━━\u001b[0m \u001b[32m0.0/40.7 kB\u001b[0m \u001b[31m?\u001b[0m eta \u001b[36m-:--:--\u001b[0m\r\u001b[2K     \u001b[90m━━━━━━━━━━━━━━━━━━━━━━━━━━━━━━━━━━━━━━━━\u001b[0m \u001b[32m40.7/40.7 kB\u001b[0m \u001b[31m2.2 MB/s\u001b[0m eta \u001b[36m0:00:00\u001b[0m\n",
            "\u001b[?25h  Preparing metadata (setup.py) ... \u001b[?25l\u001b[?25hdone\n",
            "Building wheels for collected packages: pysqlite3\n",
            "  Building wheel for pysqlite3 (setup.py) ... \u001b[?25l\u001b[?25hdone\n",
            "  Created wheel for pysqlite3: filename=pysqlite3-0.5.4-cp310-cp310-linux_x86_64.whl size=151315 sha256=7f03346bac24c7245f9db11e8875685d9ca6248499c3531afe45aab09f4b1a9c\n",
            "  Stored in directory: /root/.cache/pip/wheels/04/55/74/e3b53aeb9ff9e933626ee3938ccad69123828115ae34ce028e\n",
            "Successfully built pysqlite3\n",
            "Installing collected packages: pysqlite3\n",
            "Successfully installed pysqlite3-0.5.4\n"
          ]
        }
      ],
      "source": [
        "!pip install pysqlite3"
      ]
    },
    {
      "cell_type": "code",
      "source": [
        "from pysqlite3 import dbapi2 as sqlite3\n",
        "print(sqlite3.sqlite_version_info)"
      ],
      "metadata": {
        "colab": {
          "base_uri": "https://localhost:8080/"
        },
        "id": "sUoSFGYCuzQ6",
        "outputId": "f4000f4f-850a-4157-d4b6-14ac82b0fe5f"
      },
      "execution_count": 2,
      "outputs": [
        {
          "output_type": "stream",
          "name": "stdout",
          "text": [
            "(3, 37, 2)\n"
          ]
        }
      ]
    },
    {
      "cell_type": "code",
      "source": [
        "import pandas as pd\n",
        "from IPython.display import display, HTML"
      ],
      "metadata": {
        "id": "xBvixzetvDXm"
      },
      "execution_count": 3,
      "outputs": []
    },
    {
      "cell_type": "code",
      "source": [
        "dbname = \"music_streaming_1.db\"\n",
        "\n",
        "def printSqlResults(cursor, tbl):\n",
        "  df=pd.DataFrame(cursor.fetchall(), columns=[i[0] for i in cursor.description])\n",
        "  display(HTML(\"<b><font color=Green>\"+tbl+\"</font></b>\"+df.to_html(index=False)))\n",
        "\n",
        "def runSql(caption, query):\n",
        "  conn = sqlite3.connect(dbname)\n",
        "  cursor=conn.cursor()\n",
        "  cursor.execute(query)\n",
        "  printSqlResults(cursor,caption)\n",
        "  conn.close()"
      ],
      "metadata": {
        "id": "p5qxWYqEvK5z"
      },
      "execution_count": 4,
      "outputs": []
    },
    {
      "cell_type": "code",
      "source": [
        "conn = sqlite3.connect(dbname)\n",
        "cursor = conn.cursor()\n",
        "\n",
        "cursor.execute(\"\"\"\n",
        "      CREATE TABLE IF NOT EXISTS Users (\n",
        "        user_id INTEGER PRIMARY KEY,\n",
        "        name VARCHAR(100) NOT NULL,\n",
        "        email VARCHAR(100) NOT NULL UNIQUE\n",
        "      );\n",
        "\"\"\")\n",
        "\n",
        "cursor.execute(\"\"\"\n",
        "  CREATE TABLE IF NOT EXISTS Songs (\n",
        "    song_id INTEGER PRIMARY KEY,\n",
        "    title VARCHAR(100) NOT NULL,\n",
        "    artist VARCHAR(100) NOT NULL,\n",
        "    genre VARCHAR(100)\n",
        "  );\n",
        "\"\"\"\n",
        ")\n",
        "\n",
        "cursor.execute(\"\"\"\n",
        "    CREATE TABLE IF NOT EXISTS Listens (\n",
        "      listen_id INTEGER PRIMARY KEY,\n",
        "      user_id INTEGER NOT NULL,\n",
        "      song_id INTEGER NOT NULL,\n",
        "      rating FLOAT,\n",
        "      listen_time TIMESTAMP,\n",
        "      FOREIGN KEY (user_id) REFERENCES Users(user_id),\n",
        "      FOREIGN KEY (song_id) REFERENCES Songs(song_id)\n",
        "    );\n",
        "\"\"\")\n",
        "\n",
        "cursor.execute(\"\"\"\n",
        "  CREATE TABLE IF NOT EXISTS Recommendations (\n",
        "      recommendation_id INTEGER NOT NULL,\n",
        "      recommendation_time TIMESTAMP,\n",
        "      user_id INTEGER NOT NULL,\n",
        "      song_id INTEGER NOT NULL,\n",
        "      FOREIGN KEY (user_id) REFERENCES Users(user_id),\n",
        "      FOREIGN KEY (song_id) REFERENCES Songs(song_id)\n",
        "  );\n",
        "\"\"\")\n",
        "\n",
        "conn.commit()\n",
        "conn.close()"
      ],
      "metadata": {
        "id": "wXo3al1YwXn4"
      },
      "execution_count": 5,
      "outputs": []
    },
    {
      "cell_type": "code",
      "source": [
        "conn = sqlite3.connect(dbname)\n",
        "sqlite3.enable_callback_tracebacks(True)\n",
        "\n",
        "cursor=conn.cursor()\n",
        "cursor.execute(\"delete from Songs;\")\n",
        "cursor.execute(\"delete from Users;\")\n",
        "cursor.execute(\"delete from Listens;\")\n",
        "cursor.execute(\"delete from Recommendations;\")\n",
        "\n",
        "#Insert data into the table\n",
        "\n",
        "cursor.execute(\"\"\"\n",
        "  INSERT INTO Users (user_id, name, email)\n",
        "  VALUES\n",
        "    (1, 'Mickey', 'mickey@example.com'),\n",
        "    (2, 'Minnie', 'minnie@example.com'),\n",
        "    (3, 'Daffy', 'daffy@example.com'),\n",
        "    (4, 'Pluto', 'pluto@example.com');\n",
        "\"\"\")\n",
        "# Insert sample songs from Taylor Swift, Ed Sheeran, Beatles\n",
        "cursor.execute(\"\"\"\n",
        "INSERT INTO Songs (song_id, title, artist, genre)\n",
        "VALUES\n",
        "    (1, 'Evermore', 'Taylor Swift', 'Pop'),\n",
        "    (2, 'Willow', 'Taylor Swift', 'Pop'),\n",
        "    (3, 'Shape of You', 'Ed Sheeran', 'Rock'),\n",
        "    (4, 'Photograph', 'Ed Sheeran', 'Rock'),\n",
        "    (5, 'Shivers', 'Ed Sheeran', 'Rock'),\n",
        "    (6, 'Yesterday', 'Beatles', 'Classic'),\n",
        "    (7, 'Yellow Submarine', 'Beatles', 'Classic'),\n",
        "    (8, 'Hey Jude', 'Beatles', 'Classic'),\n",
        "    (9, 'Bad Blood', 'Taylor Swift', 'Rock'),\n",
        "    (10, 'DJ Mix', 'DJ', NULL);\n",
        "\"\"\")\n",
        "\n",
        "# Insert sample listens\n",
        "cursor.execute(\"\"\"\n",
        "INSERT INTO Listens (listen_id, user_id, song_id, rating, listen_time)\n",
        "VALUES\n",
        "    (1, 1, 1, 4.5, '2024-08-30 14:35:00'),\n",
        "    (2, 1, 2, 4.2, NULL),\n",
        "    (3, 1, 6, 3.9, '2024-08-29 10:15:00'),\n",
        "    (4, 2, 2, 4.7, NULL),\n",
        "    (5, 2, 7, 4.6, '2024-08-28 09:20:00'),\n",
        "    (6, 2, 8, 3.9, '2024-08-27 16:45:00'),\n",
        "    (7, 3, 1, 2.9, NULL),\n",
        "    (8, 3, 2, 4.9, '2024-08-26 12:30:00'),\n",
        "    (9, 3, 6, NULL, NULL);\n",
        "\"\"\")\n",
        "\n",
        "# Commit changes and close the connection\n",
        "conn.commit()\n",
        "conn.close()\n",
        "\n",
        "runSql('Users', \"select * from Users;\")\n",
        "runSql('Songs', \"select * from Songs;\")\n",
        "runSql('Listens', \"select * from Listens;\")"
      ],
      "metadata": {
        "colab": {
          "base_uri": "https://localhost:8080/",
          "height": 886
        },
        "id": "6JzFr1NVzC03",
        "outputId": "7a1d6d2b-df81-4d80-aad3-8293747628e6"
      },
      "execution_count": 6,
      "outputs": [
        {
          "output_type": "display_data",
          "data": {
            "text/plain": [
              "<IPython.core.display.HTML object>"
            ],
            "text/html": [
              "<b><font color=Green>Users</font></b><table border=\"1\" class=\"dataframe\">\n",
              "  <thead>\n",
              "    <tr style=\"text-align: right;\">\n",
              "      <th>user_id</th>\n",
              "      <th>name</th>\n",
              "      <th>email</th>\n",
              "    </tr>\n",
              "  </thead>\n",
              "  <tbody>\n",
              "    <tr>\n",
              "      <td>1</td>\n",
              "      <td>Mickey</td>\n",
              "      <td>mickey@example.com</td>\n",
              "    </tr>\n",
              "    <tr>\n",
              "      <td>2</td>\n",
              "      <td>Minnie</td>\n",
              "      <td>minnie@example.com</td>\n",
              "    </tr>\n",
              "    <tr>\n",
              "      <td>3</td>\n",
              "      <td>Daffy</td>\n",
              "      <td>daffy@example.com</td>\n",
              "    </tr>\n",
              "    <tr>\n",
              "      <td>4</td>\n",
              "      <td>Pluto</td>\n",
              "      <td>pluto@example.com</td>\n",
              "    </tr>\n",
              "  </tbody>\n",
              "</table>"
            ]
          },
          "metadata": {}
        },
        {
          "output_type": "display_data",
          "data": {
            "text/plain": [
              "<IPython.core.display.HTML object>"
            ],
            "text/html": [
              "<b><font color=Green>Songs</font></b><table border=\"1\" class=\"dataframe\">\n",
              "  <thead>\n",
              "    <tr style=\"text-align: right;\">\n",
              "      <th>song_id</th>\n",
              "      <th>title</th>\n",
              "      <th>artist</th>\n",
              "      <th>genre</th>\n",
              "    </tr>\n",
              "  </thead>\n",
              "  <tbody>\n",
              "    <tr>\n",
              "      <td>1</td>\n",
              "      <td>Evermore</td>\n",
              "      <td>Taylor Swift</td>\n",
              "      <td>Pop</td>\n",
              "    </tr>\n",
              "    <tr>\n",
              "      <td>2</td>\n",
              "      <td>Willow</td>\n",
              "      <td>Taylor Swift</td>\n",
              "      <td>Pop</td>\n",
              "    </tr>\n",
              "    <tr>\n",
              "      <td>3</td>\n",
              "      <td>Shape of You</td>\n",
              "      <td>Ed Sheeran</td>\n",
              "      <td>Rock</td>\n",
              "    </tr>\n",
              "    <tr>\n",
              "      <td>4</td>\n",
              "      <td>Photograph</td>\n",
              "      <td>Ed Sheeran</td>\n",
              "      <td>Rock</td>\n",
              "    </tr>\n",
              "    <tr>\n",
              "      <td>5</td>\n",
              "      <td>Shivers</td>\n",
              "      <td>Ed Sheeran</td>\n",
              "      <td>Rock</td>\n",
              "    </tr>\n",
              "    <tr>\n",
              "      <td>6</td>\n",
              "      <td>Yesterday</td>\n",
              "      <td>Beatles</td>\n",
              "      <td>Classic</td>\n",
              "    </tr>\n",
              "    <tr>\n",
              "      <td>7</td>\n",
              "      <td>Yellow Submarine</td>\n",
              "      <td>Beatles</td>\n",
              "      <td>Classic</td>\n",
              "    </tr>\n",
              "    <tr>\n",
              "      <td>8</td>\n",
              "      <td>Hey Jude</td>\n",
              "      <td>Beatles</td>\n",
              "      <td>Classic</td>\n",
              "    </tr>\n",
              "    <tr>\n",
              "      <td>9</td>\n",
              "      <td>Bad Blood</td>\n",
              "      <td>Taylor Swift</td>\n",
              "      <td>Rock</td>\n",
              "    </tr>\n",
              "    <tr>\n",
              "      <td>10</td>\n",
              "      <td>DJ Mix</td>\n",
              "      <td>DJ</td>\n",
              "      <td>None</td>\n",
              "    </tr>\n",
              "  </tbody>\n",
              "</table>"
            ]
          },
          "metadata": {}
        },
        {
          "output_type": "display_data",
          "data": {
            "text/plain": [
              "<IPython.core.display.HTML object>"
            ],
            "text/html": [
              "<b><font color=Green>Listens</font></b><table border=\"1\" class=\"dataframe\">\n",
              "  <thead>\n",
              "    <tr style=\"text-align: right;\">\n",
              "      <th>listen_id</th>\n",
              "      <th>user_id</th>\n",
              "      <th>song_id</th>\n",
              "      <th>rating</th>\n",
              "      <th>listen_time</th>\n",
              "    </tr>\n",
              "  </thead>\n",
              "  <tbody>\n",
              "    <tr>\n",
              "      <td>1</td>\n",
              "      <td>1</td>\n",
              "      <td>1</td>\n",
              "      <td>4.5</td>\n",
              "      <td>2024-08-30 14:35:00</td>\n",
              "    </tr>\n",
              "    <tr>\n",
              "      <td>2</td>\n",
              "      <td>1</td>\n",
              "      <td>2</td>\n",
              "      <td>4.2</td>\n",
              "      <td>None</td>\n",
              "    </tr>\n",
              "    <tr>\n",
              "      <td>3</td>\n",
              "      <td>1</td>\n",
              "      <td>6</td>\n",
              "      <td>3.9</td>\n",
              "      <td>2024-08-29 10:15:00</td>\n",
              "    </tr>\n",
              "    <tr>\n",
              "      <td>4</td>\n",
              "      <td>2</td>\n",
              "      <td>2</td>\n",
              "      <td>4.7</td>\n",
              "      <td>None</td>\n",
              "    </tr>\n",
              "    <tr>\n",
              "      <td>5</td>\n",
              "      <td>2</td>\n",
              "      <td>7</td>\n",
              "      <td>4.6</td>\n",
              "      <td>2024-08-28 09:20:00</td>\n",
              "    </tr>\n",
              "    <tr>\n",
              "      <td>6</td>\n",
              "      <td>2</td>\n",
              "      <td>8</td>\n",
              "      <td>3.9</td>\n",
              "      <td>2024-08-27 16:45:00</td>\n",
              "    </tr>\n",
              "    <tr>\n",
              "      <td>7</td>\n",
              "      <td>3</td>\n",
              "      <td>1</td>\n",
              "      <td>2.9</td>\n",
              "      <td>None</td>\n",
              "    </tr>\n",
              "    <tr>\n",
              "      <td>8</td>\n",
              "      <td>3</td>\n",
              "      <td>2</td>\n",
              "      <td>4.9</td>\n",
              "      <td>2024-08-26 12:30:00</td>\n",
              "    </tr>\n",
              "    <tr>\n",
              "      <td>9</td>\n",
              "      <td>3</td>\n",
              "      <td>6</td>\n",
              "      <td>NaN</td>\n",
              "      <td>None</td>\n",
              "    </tr>\n",
              "  </tbody>\n",
              "</table>"
            ]
          },
          "metadata": {}
        }
      ]
    },
    {
      "cell_type": "code",
      "source": [
        "qry_classic_songs = \"\"\"\n",
        "SELECT Songs.title, Songs.artist FROM Songs\n",
        "WHERE Songs.genre= 'Classic';\n",
        "\"\"\"\n",
        "runSql('Classic Query', qry_classic_songs)"
      ],
      "metadata": {
        "colab": {
          "base_uri": "https://localhost:8080/",
          "height": 160
        },
        "id": "XB-ive_HXK5v",
        "outputId": "1712c420-e115-4149-8b48-57ea85ef74dd"
      },
      "execution_count": 7,
      "outputs": [
        {
          "output_type": "display_data",
          "data": {
            "text/plain": [
              "<IPython.core.display.HTML object>"
            ],
            "text/html": [
              "<b><font color=Green>Classic Query</font></b><table border=\"1\" class=\"dataframe\">\n",
              "  <thead>\n",
              "    <tr style=\"text-align: right;\">\n",
              "      <th>title</th>\n",
              "      <th>artist</th>\n",
              "    </tr>\n",
              "  </thead>\n",
              "  <tbody>\n",
              "    <tr>\n",
              "      <td>Yesterday</td>\n",
              "      <td>Beatles</td>\n",
              "    </tr>\n",
              "    <tr>\n",
              "      <td>Yellow Submarine</td>\n",
              "      <td>Beatles</td>\n",
              "    </tr>\n",
              "    <tr>\n",
              "      <td>Hey Jude</td>\n",
              "      <td>Beatles</td>\n",
              "    </tr>\n",
              "  </tbody>\n",
              "</table>"
            ]
          },
          "metadata": {}
        }
      ]
    },
    {
      "cell_type": "code",
      "source": [
        "#Find titles and artists if songs in Classic Genre with titles starting like Ye...\n",
        "\n",
        "qry_classic_songs2 = \"\"\"\n",
        "SELECT Songs.title, Songs.artist FROM Songs\n",
        "WHERE Songs.genre= 'Classic' AND\n",
        "  Songs.title LIKE 'Ye%';\n",
        "\"\"\"\n",
        "runSql('Classic Query with songs like Ye..', qry_classic_songs2)"
      ],
      "metadata": {
        "colab": {
          "base_uri": "https://localhost:8080/",
          "height": 129
        },
        "id": "pO8Ok1MuX1XH",
        "outputId": "a66fd87d-3bae-40ba-b2dc-325d516cb60f"
      },
      "execution_count": 8,
      "outputs": [
        {
          "output_type": "display_data",
          "data": {
            "text/plain": [
              "<IPython.core.display.HTML object>"
            ],
            "text/html": [
              "<b><font color=Green>Classic Query with songs like Ye..</font></b><table border=\"1\" class=\"dataframe\">\n",
              "  <thead>\n",
              "    <tr style=\"text-align: right;\">\n",
              "      <th>title</th>\n",
              "      <th>artist</th>\n",
              "    </tr>\n",
              "  </thead>\n",
              "  <tbody>\n",
              "    <tr>\n",
              "      <td>Yesterday</td>\n",
              "      <td>Beatles</td>\n",
              "    </tr>\n",
              "    <tr>\n",
              "      <td>Yellow Submarine</td>\n",
              "      <td>Beatles</td>\n",
              "    </tr>\n",
              "  </tbody>\n",
              "</table>"
            ]
          },
          "metadata": {}
        }
      ]
    },
    {
      "cell_type": "code",
      "source": [
        "#List all the genres in the Songs table\n",
        "qry_genres = \"\"\"\n",
        "SELECT genre from Songs;\n",
        "\"\"\"\n",
        "runSql('All genres', qry_genres)"
      ],
      "metadata": {
        "colab": {
          "base_uri": "https://localhost:8080/",
          "height": 380
        },
        "id": "4ba6XEMhYgPP",
        "outputId": "0e65d909-d0e8-42b5-e4c4-acf7478e0e95"
      },
      "execution_count": 9,
      "outputs": [
        {
          "output_type": "display_data",
          "data": {
            "text/plain": [
              "<IPython.core.display.HTML object>"
            ],
            "text/html": [
              "<b><font color=Green>All genres</font></b><table border=\"1\" class=\"dataframe\">\n",
              "  <thead>\n",
              "    <tr style=\"text-align: right;\">\n",
              "      <th>genre</th>\n",
              "    </tr>\n",
              "  </thead>\n",
              "  <tbody>\n",
              "    <tr>\n",
              "      <td>Pop</td>\n",
              "    </tr>\n",
              "    <tr>\n",
              "      <td>Pop</td>\n",
              "    </tr>\n",
              "    <tr>\n",
              "      <td>Rock</td>\n",
              "    </tr>\n",
              "    <tr>\n",
              "      <td>Rock</td>\n",
              "    </tr>\n",
              "    <tr>\n",
              "      <td>Rock</td>\n",
              "    </tr>\n",
              "    <tr>\n",
              "      <td>Classic</td>\n",
              "    </tr>\n",
              "    <tr>\n",
              "      <td>Classic</td>\n",
              "    </tr>\n",
              "    <tr>\n",
              "      <td>Classic</td>\n",
              "    </tr>\n",
              "    <tr>\n",
              "      <td>Rock</td>\n",
              "    </tr>\n",
              "    <tr>\n",
              "      <td>None</td>\n",
              "    </tr>\n",
              "  </tbody>\n",
              "</table>"
            ]
          },
          "metadata": {}
        }
      ]
    },
    {
      "cell_type": "code",
      "source": [
        "#Find the unique genres from the Songs table\n",
        "\n",
        "qry_distinct = \"\"\"\n",
        "SELECT DISTINCT genre\n",
        "FROM Songs;\n",
        "\"\"\"\n",
        "\n",
        "runSql('Distinct Genres', qry_distinct)"
      ],
      "metadata": {
        "colab": {
          "base_uri": "https://localhost:8080/",
          "height": 192
        },
        "id": "FFirMlWqYzEg",
        "outputId": "b26a268f-1e31-4696-99c8-4d65134189c2"
      },
      "execution_count": 10,
      "outputs": [
        {
          "output_type": "display_data",
          "data": {
            "text/plain": [
              "<IPython.core.display.HTML object>"
            ],
            "text/html": [
              "<b><font color=Green>Distinct Genres</font></b><table border=\"1\" class=\"dataframe\">\n",
              "  <thead>\n",
              "    <tr style=\"text-align: right;\">\n",
              "      <th>genre</th>\n",
              "    </tr>\n",
              "  </thead>\n",
              "  <tbody>\n",
              "    <tr>\n",
              "      <td>Pop</td>\n",
              "    </tr>\n",
              "    <tr>\n",
              "      <td>Rock</td>\n",
              "    </tr>\n",
              "    <tr>\n",
              "      <td>Classic</td>\n",
              "    </tr>\n",
              "    <tr>\n",
              "      <td>None</td>\n",
              "    </tr>\n",
              "  </tbody>\n",
              "</table>"
            ]
          },
          "metadata": {}
        }
      ]
    },
    {
      "cell_type": "code",
      "source": [
        "#Find the number of songs by Taylor Swift in different genres\n",
        "\n",
        "qry_taylor_count=\"\"\"\n",
        "SELECT artist, genre,count(*) as num_songs\n",
        "FROM Songs\n",
        "WHERE Songs.artist='Taylor Swift'\n",
        "GROUP BY artist, genre;\n",
        "\"\"\"\n",
        "runSql('Count of songs by Taylor Swift in different genres', qry_taylor_count)"
      ],
      "metadata": {
        "colab": {
          "base_uri": "https://localhost:8080/",
          "height": 129
        },
        "id": "AoxzZqg4ZLBR",
        "outputId": "2ef753e3-b78c-4f03-bb63-78e5c8d3ea59"
      },
      "execution_count": 11,
      "outputs": [
        {
          "output_type": "display_data",
          "data": {
            "text/plain": [
              "<IPython.core.display.HTML object>"
            ],
            "text/html": [
              "<b><font color=Green>Count of songs by Taylor Swift in different genres</font></b><table border=\"1\" class=\"dataframe\">\n",
              "  <thead>\n",
              "    <tr style=\"text-align: right;\">\n",
              "      <th>artist</th>\n",
              "      <th>genre</th>\n",
              "      <th>num_songs</th>\n",
              "    </tr>\n",
              "  </thead>\n",
              "  <tbody>\n",
              "    <tr>\n",
              "      <td>Taylor Swift</td>\n",
              "      <td>Pop</td>\n",
              "      <td>2</td>\n",
              "    </tr>\n",
              "    <tr>\n",
              "      <td>Taylor Swift</td>\n",
              "      <td>Rock</td>\n",
              "      <td>1</td>\n",
              "    </tr>\n",
              "  </tbody>\n",
              "</table>"
            ]
          },
          "metadata": {}
        }
      ]
    },
    {
      "cell_type": "code",
      "source": [
        "#Find the number of songs by all artists in different genres\n",
        "\n",
        "qry_artist_count=\"\"\"\n",
        "SELECT artist, genre,count(*) as num_songs\n",
        "FROM Songs\n",
        "GROUP BY artist, genre;\n",
        "\"\"\"\n",
        "runSql('Count of songs by Taylor Swift in different genres', qry_artist_count)\n"
      ],
      "metadata": {
        "colab": {
          "base_uri": "https://localhost:8080/",
          "height": 223
        },
        "id": "2I0ryfrOaQQe",
        "outputId": "a2cb29d4-bb2f-44e2-cc04-baeb07c166e3"
      },
      "execution_count": 12,
      "outputs": [
        {
          "output_type": "display_data",
          "data": {
            "text/plain": [
              "<IPython.core.display.HTML object>"
            ],
            "text/html": [
              "<b><font color=Green>Count of songs by Taylor Swift in different genres</font></b><table border=\"1\" class=\"dataframe\">\n",
              "  <thead>\n",
              "    <tr style=\"text-align: right;\">\n",
              "      <th>artist</th>\n",
              "      <th>genre</th>\n",
              "      <th>num_songs</th>\n",
              "    </tr>\n",
              "  </thead>\n",
              "  <tbody>\n",
              "    <tr>\n",
              "      <td>Beatles</td>\n",
              "      <td>Classic</td>\n",
              "      <td>3</td>\n",
              "    </tr>\n",
              "    <tr>\n",
              "      <td>DJ</td>\n",
              "      <td>None</td>\n",
              "      <td>1</td>\n",
              "    </tr>\n",
              "    <tr>\n",
              "      <td>Ed Sheeran</td>\n",
              "      <td>Rock</td>\n",
              "      <td>3</td>\n",
              "    </tr>\n",
              "    <tr>\n",
              "      <td>Taylor Swift</td>\n",
              "      <td>Pop</td>\n",
              "      <td>2</td>\n",
              "    </tr>\n",
              "    <tr>\n",
              "      <td>Taylor Swift</td>\n",
              "      <td>Rock</td>\n",
              "      <td>1</td>\n",
              "    </tr>\n",
              "  </tbody>\n",
              "</table>"
            ]
          },
          "metadata": {}
        }
      ]
    },
    {
      "cell_type": "code",
      "source": [
        "#Create one single table for songs and listens. Redundancies are allowed\n",
        "\n",
        "qry_large_table = \"\"\"\n",
        "SELECT * FROM Songs\n",
        "LEFT JOIN Listens ON Songs.song_id=Listens.song_id\n",
        "LEFT JOIN Users ON Listens.user_id=Users.user_id;\n",
        "\"\"\"\n",
        "runSql('One Large Table',qry_large_table)"
      ],
      "metadata": {
        "colab": {
          "base_uri": "https://localhost:8080/",
          "height": 505
        },
        "id": "JYtU1XpWarvh",
        "outputId": "1e86ca38-3440-450f-8689-18e5fbcaf2ff"
      },
      "execution_count": 13,
      "outputs": [
        {
          "output_type": "display_data",
          "data": {
            "text/plain": [
              "<IPython.core.display.HTML object>"
            ],
            "text/html": [
              "<b><font color=Green>One Large Table</font></b><table border=\"1\" class=\"dataframe\">\n",
              "  <thead>\n",
              "    <tr style=\"text-align: right;\">\n",
              "      <th>song_id</th>\n",
              "      <th>title</th>\n",
              "      <th>artist</th>\n",
              "      <th>genre</th>\n",
              "      <th>listen_id</th>\n",
              "      <th>user_id</th>\n",
              "      <th>song_id</th>\n",
              "      <th>rating</th>\n",
              "      <th>listen_time</th>\n",
              "      <th>user_id</th>\n",
              "      <th>name</th>\n",
              "      <th>email</th>\n",
              "    </tr>\n",
              "  </thead>\n",
              "  <tbody>\n",
              "    <tr>\n",
              "      <td>1</td>\n",
              "      <td>Evermore</td>\n",
              "      <td>Taylor Swift</td>\n",
              "      <td>Pop</td>\n",
              "      <td>1.0</td>\n",
              "      <td>1.0</td>\n",
              "      <td>1.0</td>\n",
              "      <td>4.5</td>\n",
              "      <td>2024-08-30 14:35:00</td>\n",
              "      <td>1.0</td>\n",
              "      <td>Mickey</td>\n",
              "      <td>mickey@example.com</td>\n",
              "    </tr>\n",
              "    <tr>\n",
              "      <td>1</td>\n",
              "      <td>Evermore</td>\n",
              "      <td>Taylor Swift</td>\n",
              "      <td>Pop</td>\n",
              "      <td>7.0</td>\n",
              "      <td>3.0</td>\n",
              "      <td>1.0</td>\n",
              "      <td>2.9</td>\n",
              "      <td>None</td>\n",
              "      <td>3.0</td>\n",
              "      <td>Daffy</td>\n",
              "      <td>daffy@example.com</td>\n",
              "    </tr>\n",
              "    <tr>\n",
              "      <td>2</td>\n",
              "      <td>Willow</td>\n",
              "      <td>Taylor Swift</td>\n",
              "      <td>Pop</td>\n",
              "      <td>2.0</td>\n",
              "      <td>1.0</td>\n",
              "      <td>2.0</td>\n",
              "      <td>4.2</td>\n",
              "      <td>None</td>\n",
              "      <td>1.0</td>\n",
              "      <td>Mickey</td>\n",
              "      <td>mickey@example.com</td>\n",
              "    </tr>\n",
              "    <tr>\n",
              "      <td>2</td>\n",
              "      <td>Willow</td>\n",
              "      <td>Taylor Swift</td>\n",
              "      <td>Pop</td>\n",
              "      <td>4.0</td>\n",
              "      <td>2.0</td>\n",
              "      <td>2.0</td>\n",
              "      <td>4.7</td>\n",
              "      <td>None</td>\n",
              "      <td>2.0</td>\n",
              "      <td>Minnie</td>\n",
              "      <td>minnie@example.com</td>\n",
              "    </tr>\n",
              "    <tr>\n",
              "      <td>2</td>\n",
              "      <td>Willow</td>\n",
              "      <td>Taylor Swift</td>\n",
              "      <td>Pop</td>\n",
              "      <td>8.0</td>\n",
              "      <td>3.0</td>\n",
              "      <td>2.0</td>\n",
              "      <td>4.9</td>\n",
              "      <td>2024-08-26 12:30:00</td>\n",
              "      <td>3.0</td>\n",
              "      <td>Daffy</td>\n",
              "      <td>daffy@example.com</td>\n",
              "    </tr>\n",
              "    <tr>\n",
              "      <td>3</td>\n",
              "      <td>Shape of You</td>\n",
              "      <td>Ed Sheeran</td>\n",
              "      <td>Rock</td>\n",
              "      <td>NaN</td>\n",
              "      <td>NaN</td>\n",
              "      <td>NaN</td>\n",
              "      <td>NaN</td>\n",
              "      <td>None</td>\n",
              "      <td>NaN</td>\n",
              "      <td>None</td>\n",
              "      <td>None</td>\n",
              "    </tr>\n",
              "    <tr>\n",
              "      <td>4</td>\n",
              "      <td>Photograph</td>\n",
              "      <td>Ed Sheeran</td>\n",
              "      <td>Rock</td>\n",
              "      <td>NaN</td>\n",
              "      <td>NaN</td>\n",
              "      <td>NaN</td>\n",
              "      <td>NaN</td>\n",
              "      <td>None</td>\n",
              "      <td>NaN</td>\n",
              "      <td>None</td>\n",
              "      <td>None</td>\n",
              "    </tr>\n",
              "    <tr>\n",
              "      <td>5</td>\n",
              "      <td>Shivers</td>\n",
              "      <td>Ed Sheeran</td>\n",
              "      <td>Rock</td>\n",
              "      <td>NaN</td>\n",
              "      <td>NaN</td>\n",
              "      <td>NaN</td>\n",
              "      <td>NaN</td>\n",
              "      <td>None</td>\n",
              "      <td>NaN</td>\n",
              "      <td>None</td>\n",
              "      <td>None</td>\n",
              "    </tr>\n",
              "    <tr>\n",
              "      <td>6</td>\n",
              "      <td>Yesterday</td>\n",
              "      <td>Beatles</td>\n",
              "      <td>Classic</td>\n",
              "      <td>3.0</td>\n",
              "      <td>1.0</td>\n",
              "      <td>6.0</td>\n",
              "      <td>3.9</td>\n",
              "      <td>2024-08-29 10:15:00</td>\n",
              "      <td>1.0</td>\n",
              "      <td>Mickey</td>\n",
              "      <td>mickey@example.com</td>\n",
              "    </tr>\n",
              "    <tr>\n",
              "      <td>6</td>\n",
              "      <td>Yesterday</td>\n",
              "      <td>Beatles</td>\n",
              "      <td>Classic</td>\n",
              "      <td>9.0</td>\n",
              "      <td>3.0</td>\n",
              "      <td>6.0</td>\n",
              "      <td>NaN</td>\n",
              "      <td>None</td>\n",
              "      <td>3.0</td>\n",
              "      <td>Daffy</td>\n",
              "      <td>daffy@example.com</td>\n",
              "    </tr>\n",
              "    <tr>\n",
              "      <td>7</td>\n",
              "      <td>Yellow Submarine</td>\n",
              "      <td>Beatles</td>\n",
              "      <td>Classic</td>\n",
              "      <td>5.0</td>\n",
              "      <td>2.0</td>\n",
              "      <td>7.0</td>\n",
              "      <td>4.6</td>\n",
              "      <td>2024-08-28 09:20:00</td>\n",
              "      <td>2.0</td>\n",
              "      <td>Minnie</td>\n",
              "      <td>minnie@example.com</td>\n",
              "    </tr>\n",
              "    <tr>\n",
              "      <td>8</td>\n",
              "      <td>Hey Jude</td>\n",
              "      <td>Beatles</td>\n",
              "      <td>Classic</td>\n",
              "      <td>6.0</td>\n",
              "      <td>2.0</td>\n",
              "      <td>8.0</td>\n",
              "      <td>3.9</td>\n",
              "      <td>2024-08-27 16:45:00</td>\n",
              "      <td>2.0</td>\n",
              "      <td>Minnie</td>\n",
              "      <td>minnie@example.com</td>\n",
              "    </tr>\n",
              "    <tr>\n",
              "      <td>9</td>\n",
              "      <td>Bad Blood</td>\n",
              "      <td>Taylor Swift</td>\n",
              "      <td>Rock</td>\n",
              "      <td>NaN</td>\n",
              "      <td>NaN</td>\n",
              "      <td>NaN</td>\n",
              "      <td>NaN</td>\n",
              "      <td>None</td>\n",
              "      <td>NaN</td>\n",
              "      <td>None</td>\n",
              "      <td>None</td>\n",
              "    </tr>\n",
              "    <tr>\n",
              "      <td>10</td>\n",
              "      <td>DJ Mix</td>\n",
              "      <td>DJ</td>\n",
              "      <td>None</td>\n",
              "      <td>NaN</td>\n",
              "      <td>NaN</td>\n",
              "      <td>NaN</td>\n",
              "      <td>NaN</td>\n",
              "      <td>None</td>\n",
              "      <td>NaN</td>\n",
              "      <td>None</td>\n",
              "      <td>None</td>\n",
              "    </tr>\n",
              "  </tbody>\n",
              "</table>"
            ]
          },
          "metadata": {}
        }
      ]
    },
    {
      "cell_type": "code",
      "source": [
        "#Find the Highly Rates Songs. Consider Rating above 4.6 as highly rated\n",
        "\n",
        "qry_rating_songs=\"\"\"\n",
        "SELECT Songs.song_id, Songs.title, Songs.artist, Listens.rating\n",
        "FROM Songs\n",
        "JOIN Listens ON Songs.song_id = Listens.song_id\n",
        "WHERE Listens.rating > 4.6\n",
        "\"\"\"\n",
        "runSql('Highly Rated Songs',qry_rating_songs)\n",
        "\n",
        "#Find tha average rating of every song\n",
        "\n",
        "qry_avg_songs=\"\"\"\n",
        "SELECT Songs.song_id, Songs.title, Songs.artist, AVG(Listens.rating)\n",
        "FROM Songs\n",
        "JOIN Listens ON Songs.song_id = Listens.song_id\n",
        "GROUP BY Songs.song_id, Songs.title, Songs.artist\n",
        "\"\"\"\n",
        "runSql('Highly Rated Songs',qry_avg_songs)\n",
        "\n"
      ],
      "metadata": {
        "colab": {
          "base_uri": "https://localhost:8080/",
          "height": 335
        },
        "id": "KJUfbAzxcR8v",
        "outputId": "617b8110-c71a-4803-f9e5-8b1ab70b2ac6"
      },
      "execution_count": 14,
      "outputs": [
        {
          "output_type": "display_data",
          "data": {
            "text/plain": [
              "<IPython.core.display.HTML object>"
            ],
            "text/html": [
              "<b><font color=Green>Highly Rated Songs</font></b><table border=\"1\" class=\"dataframe\">\n",
              "  <thead>\n",
              "    <tr style=\"text-align: right;\">\n",
              "      <th>song_id</th>\n",
              "      <th>title</th>\n",
              "      <th>artist</th>\n",
              "      <th>rating</th>\n",
              "    </tr>\n",
              "  </thead>\n",
              "  <tbody>\n",
              "    <tr>\n",
              "      <td>2</td>\n",
              "      <td>Willow</td>\n",
              "      <td>Taylor Swift</td>\n",
              "      <td>4.7</td>\n",
              "    </tr>\n",
              "    <tr>\n",
              "      <td>2</td>\n",
              "      <td>Willow</td>\n",
              "      <td>Taylor Swift</td>\n",
              "      <td>4.9</td>\n",
              "    </tr>\n",
              "  </tbody>\n",
              "</table>"
            ]
          },
          "metadata": {}
        },
        {
          "output_type": "display_data",
          "data": {
            "text/plain": [
              "<IPython.core.display.HTML object>"
            ],
            "text/html": [
              "<b><font color=Green>Highly Rated Songs</font></b><table border=\"1\" class=\"dataframe\">\n",
              "  <thead>\n",
              "    <tr style=\"text-align: right;\">\n",
              "      <th>song_id</th>\n",
              "      <th>title</th>\n",
              "      <th>artist</th>\n",
              "      <th>AVG(Listens.rating)</th>\n",
              "    </tr>\n",
              "  </thead>\n",
              "  <tbody>\n",
              "    <tr>\n",
              "      <td>1</td>\n",
              "      <td>Evermore</td>\n",
              "      <td>Taylor Swift</td>\n",
              "      <td>3.7</td>\n",
              "    </tr>\n",
              "    <tr>\n",
              "      <td>2</td>\n",
              "      <td>Willow</td>\n",
              "      <td>Taylor Swift</td>\n",
              "      <td>4.6</td>\n",
              "    </tr>\n",
              "    <tr>\n",
              "      <td>6</td>\n",
              "      <td>Yesterday</td>\n",
              "      <td>Beatles</td>\n",
              "      <td>3.9</td>\n",
              "    </tr>\n",
              "    <tr>\n",
              "      <td>7</td>\n",
              "      <td>Yellow Submarine</td>\n",
              "      <td>Beatles</td>\n",
              "      <td>4.6</td>\n",
              "    </tr>\n",
              "    <tr>\n",
              "      <td>8</td>\n",
              "      <td>Hey Jude</td>\n",
              "      <td>Beatles</td>\n",
              "      <td>3.9</td>\n",
              "    </tr>\n",
              "  </tbody>\n",
              "</table>"
            ]
          },
          "metadata": {}
        }
      ]
    },
    {
      "cell_type": "code",
      "source": [
        "#Find the popular songs by counting the listens\n",
        "\n",
        "qry_pop_songs = \"\"\"\n",
        "SELECT Songs.song_id, Songs.title, Songs.artist, count(Listens.song_id)\n",
        "FROM Songs\n",
        "JOIN Listens\n",
        "ON Songs.song_id=Listens.song_id\n",
        "GROUP BY Songs.title, Songs.artist\n",
        "ORDER BY COUNT(Listens.song_id) DESC;\n",
        "\"\"\"\n",
        "\n",
        "runSql('Popular Songs', qry_pop_songs)"
      ],
      "metadata": {
        "colab": {
          "base_uri": "https://localhost:8080/",
          "height": 223
        },
        "id": "kZ7do5Vid58S",
        "outputId": "22ae39d0-01d1-4c12-cc1f-52e9bc9bbdc6"
      },
      "execution_count": 15,
      "outputs": [
        {
          "output_type": "display_data",
          "data": {
            "text/plain": [
              "<IPython.core.display.HTML object>"
            ],
            "text/html": [
              "<b><font color=Green>Popular Songs</font></b><table border=\"1\" class=\"dataframe\">\n",
              "  <thead>\n",
              "    <tr style=\"text-align: right;\">\n",
              "      <th>song_id</th>\n",
              "      <th>title</th>\n",
              "      <th>artist</th>\n",
              "      <th>count(Listens.song_id)</th>\n",
              "    </tr>\n",
              "  </thead>\n",
              "  <tbody>\n",
              "    <tr>\n",
              "      <td>2</td>\n",
              "      <td>Willow</td>\n",
              "      <td>Taylor Swift</td>\n",
              "      <td>3</td>\n",
              "    </tr>\n",
              "    <tr>\n",
              "      <td>1</td>\n",
              "      <td>Evermore</td>\n",
              "      <td>Taylor Swift</td>\n",
              "      <td>2</td>\n",
              "    </tr>\n",
              "    <tr>\n",
              "      <td>6</td>\n",
              "      <td>Yesterday</td>\n",
              "      <td>Beatles</td>\n",
              "      <td>2</td>\n",
              "    </tr>\n",
              "    <tr>\n",
              "      <td>8</td>\n",
              "      <td>Hey Jude</td>\n",
              "      <td>Beatles</td>\n",
              "      <td>1</td>\n",
              "    </tr>\n",
              "    <tr>\n",
              "      <td>7</td>\n",
              "      <td>Yellow Submarine</td>\n",
              "      <td>Beatles</td>\n",
              "      <td>1</td>\n",
              "    </tr>\n",
              "  </tbody>\n",
              "</table>"
            ]
          },
          "metadata": {}
        }
      ]
    },
    {
      "cell_type": "code",
      "source": [
        "#Find songs by Ed Sheeran and Taylor Swift\n",
        "\n",
        "qry_edtaylor=\"\"\"\n",
        "SELECT title, artist\n",
        "FROM Songs\n",
        "WHERE artist IN ('Ed Sheeran', 'Taylor Swift');\n",
        "\"\"\"\n",
        "runSql('Songs by Ed Sheeran and Taylor Swift', qry_edtaylor)\n",
        "\n",
        "#Find songs from both pop and rock genres\n",
        "\n",
        "qry_popandrock = \"\"\"\n",
        "SELECT title, artist\n",
        "FROM Songs\n",
        "WHERE genre='Pop'\n",
        "UNION\n",
        "SELECT title, artist\n",
        "FROM Songs\n",
        "WHERE genre='Rock'\n",
        "\"\"\"\n",
        "runSql('Songs on both Pop and Rock', qry_popandrock)\n"
      ],
      "metadata": {
        "colab": {
          "base_uri": "https://localhost:8080/",
          "height": 492
        },
        "id": "XcnhWdXBfbvA",
        "outputId": "405d6c0b-9b73-419d-a961-030cf9556913"
      },
      "execution_count": 16,
      "outputs": [
        {
          "output_type": "display_data",
          "data": {
            "text/plain": [
              "<IPython.core.display.HTML object>"
            ],
            "text/html": [
              "<b><font color=Green>Songs by Ed Sheeran and Taylor Swift</font></b><table border=\"1\" class=\"dataframe\">\n",
              "  <thead>\n",
              "    <tr style=\"text-align: right;\">\n",
              "      <th>title</th>\n",
              "      <th>artist</th>\n",
              "    </tr>\n",
              "  </thead>\n",
              "  <tbody>\n",
              "    <tr>\n",
              "      <td>Evermore</td>\n",
              "      <td>Taylor Swift</td>\n",
              "    </tr>\n",
              "    <tr>\n",
              "      <td>Willow</td>\n",
              "      <td>Taylor Swift</td>\n",
              "    </tr>\n",
              "    <tr>\n",
              "      <td>Shape of You</td>\n",
              "      <td>Ed Sheeran</td>\n",
              "    </tr>\n",
              "    <tr>\n",
              "      <td>Photograph</td>\n",
              "      <td>Ed Sheeran</td>\n",
              "    </tr>\n",
              "    <tr>\n",
              "      <td>Shivers</td>\n",
              "      <td>Ed Sheeran</td>\n",
              "    </tr>\n",
              "    <tr>\n",
              "      <td>Bad Blood</td>\n",
              "      <td>Taylor Swift</td>\n",
              "    </tr>\n",
              "  </tbody>\n",
              "</table>"
            ]
          },
          "metadata": {}
        },
        {
          "output_type": "display_data",
          "data": {
            "text/plain": [
              "<IPython.core.display.HTML object>"
            ],
            "text/html": [
              "<b><font color=Green>Songs on both Pop and Rock</font></b><table border=\"1\" class=\"dataframe\">\n",
              "  <thead>\n",
              "    <tr style=\"text-align: right;\">\n",
              "      <th>title</th>\n",
              "      <th>artist</th>\n",
              "    </tr>\n",
              "  </thead>\n",
              "  <tbody>\n",
              "    <tr>\n",
              "      <td>Bad Blood</td>\n",
              "      <td>Taylor Swift</td>\n",
              "    </tr>\n",
              "    <tr>\n",
              "      <td>Evermore</td>\n",
              "      <td>Taylor Swift</td>\n",
              "    </tr>\n",
              "    <tr>\n",
              "      <td>Photograph</td>\n",
              "      <td>Ed Sheeran</td>\n",
              "    </tr>\n",
              "    <tr>\n",
              "      <td>Shape of You</td>\n",
              "      <td>Ed Sheeran</td>\n",
              "    </tr>\n",
              "    <tr>\n",
              "      <td>Shivers</td>\n",
              "      <td>Ed Sheeran</td>\n",
              "    </tr>\n",
              "    <tr>\n",
              "      <td>Willow</td>\n",
              "      <td>Taylor Swift</td>\n",
              "    </tr>\n",
              "  </tbody>\n",
              "</table>"
            ]
          },
          "metadata": {}
        }
      ]
    },
    {
      "cell_type": "code",
      "source": [
        "#Find songs listened to by user_id 1\n",
        "\n",
        "qry_listen_usr=\"\"\"\n",
        "SELECT title, artist\n",
        "FROM Songs\n",
        "WHERE song_id IN (SELECT song_id FROM Listens WHERE Listens.listen_time IS NULL);\n",
        "\"\"\"\n",
        "runSql('Songs listened by user_id=1',qry_listen_usr)"
      ],
      "metadata": {
        "colab": {
          "base_uri": "https://localhost:8080/",
          "height": 160
        },
        "id": "I9tVVcvAgsvQ",
        "outputId": "7928290e-6132-4a8d-d203-71a4be863db3"
      },
      "execution_count": 17,
      "outputs": [
        {
          "output_type": "display_data",
          "data": {
            "text/plain": [
              "<IPython.core.display.HTML object>"
            ],
            "text/html": [
              "<b><font color=Green>Songs listened by user_id=1</font></b><table border=\"1\" class=\"dataframe\">\n",
              "  <thead>\n",
              "    <tr style=\"text-align: right;\">\n",
              "      <th>title</th>\n",
              "      <th>artist</th>\n",
              "    </tr>\n",
              "  </thead>\n",
              "  <tbody>\n",
              "    <tr>\n",
              "      <td>Evermore</td>\n",
              "      <td>Taylor Swift</td>\n",
              "    </tr>\n",
              "    <tr>\n",
              "      <td>Willow</td>\n",
              "      <td>Taylor Swift</td>\n",
              "    </tr>\n",
              "    <tr>\n",
              "      <td>Yesterday</td>\n",
              "      <td>Beatles</td>\n",
              "    </tr>\n",
              "  </tbody>\n",
              "</table>"
            ]
          },
          "metadata": {}
        }
      ]
    },
    {
      "cell_type": "code",
      "source": [
        "#Computing the recommendations\n",
        "#Find the song pairs which are shared across > 1 user\n",
        "\n",
        "qry_sharing=\"\"\"\n",
        "WITH song_similarity AS (\n",
        "SELECT u1.song_id as song1, u2.song_id as song2, COUNT(*) AS common_users\n",
        "FROM LISTENS u1\n",
        "JOIN LISTENS u2\n",
        "ON u1.user_id=u2.user_id\n",
        "AND u1.song_id != u2.song_id\n",
        "GROUP BY u1.song_id, u2.song_id\n",
        "HAVING COUNT(*)>1\n",
        "),\n",
        "\n",
        "recs AS (\n",
        "  SELECT user_id, song2 as song_id\n",
        "  FROM song_similarity\n",
        "  JOIN Listens as L\n",
        "  ON L.song_id = song_similarity.song1\n",
        "  WHERE song_similarity.song2 NOT IN\n",
        "  (SELECT song_id FROM Listens as temp where temp.user_id=L.user_id)\n",
        ")\n",
        "select * from recs;\n",
        "\"\"\"\n",
        "runSql('Songs shared', qry_sharing)"
      ],
      "metadata": {
        "colab": {
          "base_uri": "https://localhost:8080/",
          "height": 129
        },
        "id": "vudHinsaiRoD",
        "outputId": "dbf9b2a8-0223-4855-886f-bae9dc26c461"
      },
      "execution_count": 18,
      "outputs": [
        {
          "output_type": "display_data",
          "data": {
            "text/plain": [
              "<IPython.core.display.HTML object>"
            ],
            "text/html": [
              "<b><font color=Green>Songs shared</font></b><table border=\"1\" class=\"dataframe\">\n",
              "  <thead>\n",
              "    <tr style=\"text-align: right;\">\n",
              "      <th>user_id</th>\n",
              "      <th>song_id</th>\n",
              "    </tr>\n",
              "  </thead>\n",
              "  <tbody>\n",
              "    <tr>\n",
              "      <td>2</td>\n",
              "      <td>1</td>\n",
              "    </tr>\n",
              "    <tr>\n",
              "      <td>2</td>\n",
              "      <td>6</td>\n",
              "    </tr>\n",
              "  </tbody>\n",
              "</table>"
            ]
          },
          "metadata": {}
        }
      ]
    },
    {
      "cell_type": "code",
      "source": [
        "#ASSIGNMENT-2. To be submitted as a PDF with queries and screenshots.\n",
        "\n",
        "#1 Insert the above into the recommendations table\n",
        "#2 Generate the recommendaions for Minnie\n",
        "\n",
        "#3 Re-do the generation of recommendations now on the basis of listen time\n",
        "#4 Generate new recommendations\n",
        "#5 What are the differences with the static method on #2 above"
      ],
      "metadata": {
        "id": "kfNk7E21S5c2"
      },
      "execution_count": 19,
      "outputs": []
    },
    {
      "cell_type": "markdown",
      "source": [
        "1 Insert the above into the recommendations table"
      ],
      "metadata": {
        "id": "Z1jWxRL2mQHA"
      }
    },
    {
      "cell_type": "code",
      "source": [
        "import sqlite3\n",
        "import pandas as pd\n",
        "from IPython.core.display import HTML\n",
        "\n",
        "# Initialize database connection\n",
        "db_connection = sqlite3.connect(\"music_streaming_1.db\")  # Replace with your database name\n",
        "db_cursor = db_connection.cursor()\n",
        "\n",
        "# Function to run SQL queries and display results\n",
        "def execute_sql(description, query):\n",
        "    try:\n",
        "        db_cursor.execute(query)\n",
        "        if db_cursor.description:  # Check if the query returns a result set\n",
        "            result_df = pd.DataFrame(db_cursor.fetchall(), columns=[col[0] for col in db_cursor.description])\n",
        "            display(HTML(f\"<b><font color=Green>{description}</font></b>{result_df.to_html(index=False)}\"))\n",
        "        else:\n",
        "            print(f\"{description}: Query executed successfully.\")  # For non-result queries\n",
        "        db_connection.commit()  # Commit changes for transactional consistency\n",
        "    except Exception as error:\n",
        "        print(f\"Error executing {description}: {error}\")\n",
        "\n",
        "\n",
        "# Drop the existing Recommendations table\n",
        "drop_table_query = \"\"\"\n",
        "DROP TABLE IF EXISTS Recommendations;\n",
        "\"\"\"\n",
        "execute_sql(\"Drop Recommendations Table\", drop_table_query)\n",
        "\n",
        "# Recreate the Recommendations table with AUTOINCREMENT for recommendation_id\n",
        "create_table_query = \"\"\"\n",
        "CREATE TABLE IF NOT EXISTS Recommendations (\n",
        "    recommendation_id INTEGER PRIMARY KEY AUTOINCREMENT,\n",
        "    recommendation_time TIMESTAMP,\n",
        "    user_id INTEGER NOT NULL,\n",
        "    song_id INTEGER NOT NULL,\n",
        "    FOREIGN KEY (user_id) REFERENCES Users(user_id),\n",
        "    FOREIGN KEY (song_id) REFERENCES Songs(song_id)\n",
        ");\n",
        "\"\"\"\n",
        "execute_sql(\"Create Recommendations Table\", create_table_query)\n",
        "\n",
        "\n",
        "# Query to insert recommendations into the Recommendations table\n",
        "insert_recommendations_query = \"\"\"\n",
        "INSERT INTO Recommendations (recommendation_time, user_id, song_id)\n",
        "SELECT CURRENT_TIMESTAMP, user_id, song_id\n",
        "FROM (\n",
        "    WITH song_similarity AS (\n",
        "        SELECT u1.song_id AS song1, u2.song_id AS song2, COUNT(*) AS common_users\n",
        "        FROM Listens u1\n",
        "        JOIN Listens u2\n",
        "        ON u1.user_id = u2.user_id AND u1.song_id != u2.song_id\n",
        "        GROUP BY u1.song_id, u2.song_id\n",
        "        HAVING COUNT(*) > 1\n",
        "    )\n",
        "    SELECT DISTINCT L.user_id, song_similarity.song2 AS song_id\n",
        "    FROM song_similarity\n",
        "    JOIN Listens L\n",
        "    ON L.song_id = song_similarity.song1\n",
        "    WHERE song_similarity.song2 NOT IN (\n",
        "        SELECT song_id FROM Listens WHERE Listens.user_id = L.user_id\n",
        "    )\n",
        ");\n",
        "\"\"\"\n",
        "\n",
        "# Execute and insert recommendations\n",
        "execute_sql(\"Insert Recommendations into Recommendations Table\", insert_recommendations_query)\n"
      ],
      "metadata": {
        "colab": {
          "base_uri": "https://localhost:8080/"
        },
        "id": "Di-zi45dCH9B",
        "outputId": "ae04f6bd-d287-4a6f-f9cd-f8e3ceca916e"
      },
      "execution_count": 21,
      "outputs": [
        {
          "output_type": "stream",
          "name": "stdout",
          "text": [
            "Drop Recommendations Table: Query executed successfully.\n",
            "Create Recommendations Table: Query executed successfully.\n",
            "Insert Recommendations into Recommendations Table: Query executed successfully.\n"
          ]
        }
      ]
    },
    {
      "cell_type": "code",
      "source": [
        "execute_sql(\"Verify Recommendations\", \"SELECT * FROM Recommendations;\")\n"
      ],
      "metadata": {
        "colab": {
          "base_uri": "https://localhost:8080/",
          "height": 129
        },
        "id": "bc3sdzYrHMwX",
        "outputId": "051136df-fc33-47b4-dabb-731576e28427"
      },
      "execution_count": 26,
      "outputs": [
        {
          "output_type": "display_data",
          "data": {
            "text/plain": [
              "<IPython.core.display.HTML object>"
            ],
            "text/html": [
              "<b><font color=Green>Verify Recommendations</font></b><table border=\"1\" class=\"dataframe\">\n",
              "  <thead>\n",
              "    <tr style=\"text-align: right;\">\n",
              "      <th>recommendation_id</th>\n",
              "      <th>recommendation_time</th>\n",
              "      <th>user_id</th>\n",
              "      <th>song_id</th>\n",
              "    </tr>\n",
              "  </thead>\n",
              "  <tbody>\n",
              "    <tr>\n",
              "      <td>1</td>\n",
              "      <td>2024-12-09 15:40:21</td>\n",
              "      <td>2</td>\n",
              "      <td>1</td>\n",
              "    </tr>\n",
              "    <tr>\n",
              "      <td>2</td>\n",
              "      <td>2024-12-09 15:40:21</td>\n",
              "      <td>2</td>\n",
              "      <td>6</td>\n",
              "    </tr>\n",
              "  </tbody>\n",
              "</table>"
            ]
          },
          "metadata": {}
        }
      ]
    },
    {
      "cell_type": "markdown",
      "source": [],
      "metadata": {
        "id": "m7ERyxz2GVjK"
      }
    },
    {
      "cell_type": "code",
      "source": [
        "# Query to find Minnie's user_id\n",
        "find_minnie_user_id_query = \"\"\"\n",
        "SELECT user_id\n",
        "FROM Users\n",
        "WHERE name = 'Minnie';\n",
        "\"\"\"\n",
        "\n",
        "# Call the function to execute the query\n",
        "execute_sql(\"Find Minnie's User ID\", find_minnie_user_id_query)\n",
        "\n",
        "# Query to generate song recommendations for Minnie\n",
        "generate_minnie_recommendations_query = \"\"\"\n",
        "INSERT INTO Recommendations (recommendation_time, user_id, song_id)\n",
        "SELECT CURRENT_TIMESTAMP, 2, song_id\n",
        "FROM (\n",
        "    WITH song_similarity AS (\n",
        "        SELECT u1.song_id AS song1, u2.song_id AS song2, COUNT(*) AS common_users\n",
        "        FROM Listens u1\n",
        "        JOIN Listens u2\n",
        "        ON u1.user_id = u2.user_id AND u1.song_id != u2.song_id\n",
        "        GROUP BY u1.song_id, u2.song_id\n",
        "        HAVING COUNT(*) > 1\n",
        "    )\n",
        "    SELECT DISTINCT song_similarity.song2 AS song_id\n",
        "    FROM song_similarity\n",
        "    JOIN Listens L\n",
        "    ON L.song_id = song_similarity.song1\n",
        "    WHERE L.user_id = 2\n",
        "    AND song_similarity.song2 NOT IN (\n",
        "        SELECT song_id FROM Listens WHERE user_id = 2\n",
        "    )\n",
        ");\n",
        "\"\"\"\n",
        "\n",
        "# Function to execute the query for generating recommendations\n",
        "execute_sql(\"Generate Song Recommendations for Minnie\", generate_minnie_recommendations_query)\n",
        "execute_sql(\"Verify Recommendations for Minnie\", f\"\"\"\n",
        "SELECT *\n",
        "FROM Recommendations\n",
        "WHERE user_id = 2;\n",
        "\"\"\")\n"
      ],
      "metadata": {
        "colab": {
          "base_uri": "https://localhost:8080/",
          "height": 352
        },
        "id": "y4D5DBm_GWB5",
        "outputId": "5bbf03af-de41-4a75-b64f-c9f9c0d91db9"
      },
      "execution_count": 29,
      "outputs": [
        {
          "output_type": "display_data",
          "data": {
            "text/plain": [
              "<IPython.core.display.HTML object>"
            ],
            "text/html": [
              "<b><font color=Green>Find Minnie's User ID</font></b><table border=\"1\" class=\"dataframe\">\n",
              "  <thead>\n",
              "    <tr style=\"text-align: right;\">\n",
              "      <th>user_id</th>\n",
              "    </tr>\n",
              "  </thead>\n",
              "  <tbody>\n",
              "    <tr>\n",
              "      <td>2</td>\n",
              "    </tr>\n",
              "  </tbody>\n",
              "</table>"
            ]
          },
          "metadata": {}
        },
        {
          "output_type": "stream",
          "name": "stdout",
          "text": [
            "Generate Song Recommendations for Minnie: Query executed successfully.\n"
          ]
        },
        {
          "output_type": "display_data",
          "data": {
            "text/plain": [
              "<IPython.core.display.HTML object>"
            ],
            "text/html": [
              "<b><font color=Green>Verify Recommendations for Minnie</font></b><table border=\"1\" class=\"dataframe\">\n",
              "  <thead>\n",
              "    <tr style=\"text-align: right;\">\n",
              "      <th>recommendation_id</th>\n",
              "      <th>recommendation_time</th>\n",
              "      <th>user_id</th>\n",
              "      <th>song_id</th>\n",
              "    </tr>\n",
              "  </thead>\n",
              "  <tbody>\n",
              "    <tr>\n",
              "      <td>1</td>\n",
              "      <td>2024-12-09 15:40:21</td>\n",
              "      <td>2</td>\n",
              "      <td>1</td>\n",
              "    </tr>\n",
              "    <tr>\n",
              "      <td>2</td>\n",
              "      <td>2024-12-09 15:40:21</td>\n",
              "      <td>2</td>\n",
              "      <td>6</td>\n",
              "    </tr>\n",
              "    <tr>\n",
              "      <td>3</td>\n",
              "      <td>2024-12-09 15:52:21</td>\n",
              "      <td>2</td>\n",
              "      <td>1</td>\n",
              "    </tr>\n",
              "    <tr>\n",
              "      <td>4</td>\n",
              "      <td>2024-12-09 15:52:21</td>\n",
              "      <td>2</td>\n",
              "      <td>6</td>\n",
              "    </tr>\n",
              "    <tr>\n",
              "      <td>5</td>\n",
              "      <td>2024-12-09 15:52:55</td>\n",
              "      <td>2</td>\n",
              "      <td>1</td>\n",
              "    </tr>\n",
              "    <tr>\n",
              "      <td>6</td>\n",
              "      <td>2024-12-09 15:52:55</td>\n",
              "      <td>2</td>\n",
              "      <td>6</td>\n",
              "    </tr>\n",
              "  </tbody>\n",
              "</table>"
            ]
          },
          "metadata": {}
        }
      ]
    },
    {
      "cell_type": "markdown",
      "source": [
        "Task #3: Re-do the Generation of Recommendations Based on Listen Time"
      ],
      "metadata": {
        "id": "p4SLVsJOIILZ"
      }
    },
    {
      "cell_type": "code",
      "source": [
        "# Define the query to generate recommendations for Minnie based on listen time\n",
        "rec_for_minni = f\"\"\"\n",
        "INSERT INTO Recommendations (recommendation_time, user_id, song_id)\n",
        "SELECT CURRENT_TIMESTAMP, 2, song_id\n",
        "FROM (\n",
        "    WITH song_similarity AS (\n",
        "        SELECT u1.song_id AS song1, u2.song_id AS song2, COUNT(*) AS common_users\n",
        "        FROM Listens u1\n",
        "        JOIN Listens u2\n",
        "        ON u1.user_id = u2.user_id AND u1.song_id != u2.song_id\n",
        "        GROUP BY u1.song_id, u2.song_id\n",
        "        HAVING COUNT(*) > 1\n",
        "    )\n",
        "    SELECT DISTINCT song_similarity.song2 AS song_id\n",
        "    FROM song_similarity\n",
        "    JOIN Listens L\n",
        "    ON L.song_id = song_similarity.song1\n",
        "    WHERE L.user_id = 2\n",
        "    AND song_similarity.song2 NOT IN (\n",
        "        SELECT song_id\n",
        "        FROM Listens\n",
        "        WHERE user_id = 2\n",
        "    )\n",
        "    ORDER BY L.listen_time DESC  -- Prioritize based on listen time\n",
        ");\n",
        "\"\"\"\n",
        "\n",
        "# Execute the query to generate the recommendations\n",
        "execute_sql(\"Generate Recommendations for Minnie Based on Listen Time\", rec_for_minni)\n"
      ],
      "metadata": {
        "colab": {
          "base_uri": "https://localhost:8080/"
        },
        "id": "2bwuNwkjIIxB",
        "outputId": "ec692354-5175-4f29-ce03-fd21990c48f7"
      },
      "execution_count": 30,
      "outputs": [
        {
          "output_type": "stream",
          "name": "stdout",
          "text": [
            "Generate Recommendations for Minnie Based on Listen Time: Query executed successfully.\n"
          ]
        }
      ]
    },
    {
      "cell_type": "code",
      "source": [
        "# Verify the recommendations for Minnie based on listen time\n",
        "veri_mini_recomm = f\"\"\"\n",
        "SELECT *\n",
        "FROM Recommendations\n",
        "WHERE user_id = 2;\n",
        "\"\"\"\n",
        "\n",
        "execute_sql(\"Verify Recommendations for Minnie Based on Listen Time\", veri_mini_recomm)\n",
        "\n",
        "# Fetch song details for Minnie's recommendations based on listen time\n",
        "mini_song_details = \"\"\"\n",
        "SELECT R.recommendation_id, R.user_id, S.title, S.artist, S.genre\n",
        "FROM Recommendations R\n",
        "JOIN Songs S\n",
        "ON R.song_id = S.song_id\n",
        "WHERE R.user_id = 2;\n",
        "\"\"\"\n",
        "\n",
        "execute_sql(\"Song Details for Minnie's Recommendations with Listen Time\", mini_song_details)\n"
      ],
      "metadata": {
        "colab": {
          "base_uri": "https://localhost:8080/",
          "height": 617
        },
        "id": "PCJF3yIXIbm4",
        "outputId": "07b10a52-8b00-4c06-b68f-1851e058ed66"
      },
      "execution_count": 33,
      "outputs": [
        {
          "output_type": "display_data",
          "data": {
            "text/plain": [
              "<IPython.core.display.HTML object>"
            ],
            "text/html": [
              "<b><font color=Green>Verify Recommendations for Minnie Based on Listen Time</font></b><table border=\"1\" class=\"dataframe\">\n",
              "  <thead>\n",
              "    <tr style=\"text-align: right;\">\n",
              "      <th>recommendation_id</th>\n",
              "      <th>recommendation_time</th>\n",
              "      <th>user_id</th>\n",
              "      <th>song_id</th>\n",
              "    </tr>\n",
              "  </thead>\n",
              "  <tbody>\n",
              "    <tr>\n",
              "      <td>1</td>\n",
              "      <td>2024-12-09 15:40:21</td>\n",
              "      <td>2</td>\n",
              "      <td>1</td>\n",
              "    </tr>\n",
              "    <tr>\n",
              "      <td>2</td>\n",
              "      <td>2024-12-09 15:40:21</td>\n",
              "      <td>2</td>\n",
              "      <td>6</td>\n",
              "    </tr>\n",
              "    <tr>\n",
              "      <td>3</td>\n",
              "      <td>2024-12-09 15:52:21</td>\n",
              "      <td>2</td>\n",
              "      <td>1</td>\n",
              "    </tr>\n",
              "    <tr>\n",
              "      <td>4</td>\n",
              "      <td>2024-12-09 15:52:21</td>\n",
              "      <td>2</td>\n",
              "      <td>6</td>\n",
              "    </tr>\n",
              "    <tr>\n",
              "      <td>5</td>\n",
              "      <td>2024-12-09 15:52:55</td>\n",
              "      <td>2</td>\n",
              "      <td>1</td>\n",
              "    </tr>\n",
              "    <tr>\n",
              "      <td>6</td>\n",
              "      <td>2024-12-09 15:52:55</td>\n",
              "      <td>2</td>\n",
              "      <td>6</td>\n",
              "    </tr>\n",
              "    <tr>\n",
              "      <td>7</td>\n",
              "      <td>2024-12-09 15:54:04</td>\n",
              "      <td>2</td>\n",
              "      <td>1</td>\n",
              "    </tr>\n",
              "    <tr>\n",
              "      <td>8</td>\n",
              "      <td>2024-12-09 15:54:04</td>\n",
              "      <td>2</td>\n",
              "      <td>6</td>\n",
              "    </tr>\n",
              "  </tbody>\n",
              "</table>"
            ]
          },
          "metadata": {}
        },
        {
          "output_type": "display_data",
          "data": {
            "text/plain": [
              "<IPython.core.display.HTML object>"
            ],
            "text/html": [
              "<b><font color=Green>Song Details for Minnie's Recommendations with Listen Time</font></b><table border=\"1\" class=\"dataframe\">\n",
              "  <thead>\n",
              "    <tr style=\"text-align: right;\">\n",
              "      <th>recommendation_id</th>\n",
              "      <th>user_id</th>\n",
              "      <th>title</th>\n",
              "      <th>artist</th>\n",
              "      <th>genre</th>\n",
              "    </tr>\n",
              "  </thead>\n",
              "  <tbody>\n",
              "    <tr>\n",
              "      <td>1</td>\n",
              "      <td>2</td>\n",
              "      <td>Evermore</td>\n",
              "      <td>Taylor Swift</td>\n",
              "      <td>Pop</td>\n",
              "    </tr>\n",
              "    <tr>\n",
              "      <td>2</td>\n",
              "      <td>2</td>\n",
              "      <td>Yesterday</td>\n",
              "      <td>Beatles</td>\n",
              "      <td>Classic</td>\n",
              "    </tr>\n",
              "    <tr>\n",
              "      <td>3</td>\n",
              "      <td>2</td>\n",
              "      <td>Evermore</td>\n",
              "      <td>Taylor Swift</td>\n",
              "      <td>Pop</td>\n",
              "    </tr>\n",
              "    <tr>\n",
              "      <td>4</td>\n",
              "      <td>2</td>\n",
              "      <td>Yesterday</td>\n",
              "      <td>Beatles</td>\n",
              "      <td>Classic</td>\n",
              "    </tr>\n",
              "    <tr>\n",
              "      <td>5</td>\n",
              "      <td>2</td>\n",
              "      <td>Evermore</td>\n",
              "      <td>Taylor Swift</td>\n",
              "      <td>Pop</td>\n",
              "    </tr>\n",
              "    <tr>\n",
              "      <td>6</td>\n",
              "      <td>2</td>\n",
              "      <td>Yesterday</td>\n",
              "      <td>Beatles</td>\n",
              "      <td>Classic</td>\n",
              "    </tr>\n",
              "    <tr>\n",
              "      <td>7</td>\n",
              "      <td>2</td>\n",
              "      <td>Evermore</td>\n",
              "      <td>Taylor Swift</td>\n",
              "      <td>Pop</td>\n",
              "    </tr>\n",
              "    <tr>\n",
              "      <td>8</td>\n",
              "      <td>2</td>\n",
              "      <td>Yesterday</td>\n",
              "      <td>Beatles</td>\n",
              "      <td>Classic</td>\n",
              "    </tr>\n",
              "  </tbody>\n",
              "</table>"
            ]
          },
          "metadata": {}
        }
      ]
    },
    {
      "cell_type": "markdown",
      "source": [
        "Task #4: Generate New Recommendations"
      ],
      "metadata": {
        "id": "XXOBE3GHIpkM"
      }
    },
    {
      "cell_type": "code",
      "source": [
        "# New query to generate recommendations for Minnie based on rating and listen time\n",
        "gen_new_rec = f\"\"\"\n",
        "INSERT INTO Recommendations (recommendation_time, user_id, song_id)\n",
        "SELECT CURRENT_TIMESTAMP, {2}, S.song_id\n",
        "FROM Songs S\n",
        "JOIN Listens L\n",
        "ON S.song_id = L.song_id\n",
        "WHERE S.song_id NOT IN (\n",
        "    SELECT song_id\n",
        "    FROM Listens\n",
        "    WHERE user_id = {2}\n",
        ")\n",
        "AND (L.rating >= 4.5 OR L.listen_time IS NOT NULL)\n",
        "GROUP BY S.song_id\n",
        "ORDER BY L.rating DESC, L.listen_time DESC;\n",
        "\"\"\"\n",
        "\n",
        "# Execute the query to generate new recommendations for Minnie\n",
        "execute_sql(\"Generate New Recommendations for Minnie Based on Rating and Listen Time\", gen_new_rec)\n",
        "\n",
        "execute_sql(\"Verify New Recommendations for Minnie\", f\"\"\"\n",
        "SELECT *\n",
        "FROM Recommendations\n",
        "WHERE user_id = {2};\n",
        "\"\"\")"
      ],
      "metadata": {
        "colab": {
          "base_uri": "https://localhost:8080/",
          "height": 460
        },
        "id": "It7r7zEoIqTX",
        "outputId": "f4eae2ba-e135-4147-dbab-951011c85633"
      },
      "execution_count": 35,
      "outputs": [
        {
          "output_type": "stream",
          "name": "stdout",
          "text": [
            "Generate New Recommendations for Minnie Based on Rating and Listen Time: Query executed successfully.\n"
          ]
        },
        {
          "output_type": "display_data",
          "data": {
            "text/plain": [
              "<IPython.core.display.HTML object>"
            ],
            "text/html": [
              "<b><font color=Green>Verify New Recommendations for Minnie</font></b><table border=\"1\" class=\"dataframe\">\n",
              "  <thead>\n",
              "    <tr style=\"text-align: right;\">\n",
              "      <th>recommendation_id</th>\n",
              "      <th>recommendation_time</th>\n",
              "      <th>user_id</th>\n",
              "      <th>song_id</th>\n",
              "    </tr>\n",
              "  </thead>\n",
              "  <tbody>\n",
              "    <tr>\n",
              "      <td>1</td>\n",
              "      <td>2024-12-09 15:40:21</td>\n",
              "      <td>2</td>\n",
              "      <td>1</td>\n",
              "    </tr>\n",
              "    <tr>\n",
              "      <td>2</td>\n",
              "      <td>2024-12-09 15:40:21</td>\n",
              "      <td>2</td>\n",
              "      <td>6</td>\n",
              "    </tr>\n",
              "    <tr>\n",
              "      <td>3</td>\n",
              "      <td>2024-12-09 15:52:21</td>\n",
              "      <td>2</td>\n",
              "      <td>1</td>\n",
              "    </tr>\n",
              "    <tr>\n",
              "      <td>4</td>\n",
              "      <td>2024-12-09 15:52:21</td>\n",
              "      <td>2</td>\n",
              "      <td>6</td>\n",
              "    </tr>\n",
              "    <tr>\n",
              "      <td>5</td>\n",
              "      <td>2024-12-09 15:52:55</td>\n",
              "      <td>2</td>\n",
              "      <td>1</td>\n",
              "    </tr>\n",
              "    <tr>\n",
              "      <td>6</td>\n",
              "      <td>2024-12-09 15:52:55</td>\n",
              "      <td>2</td>\n",
              "      <td>6</td>\n",
              "    </tr>\n",
              "    <tr>\n",
              "      <td>7</td>\n",
              "      <td>2024-12-09 15:54:04</td>\n",
              "      <td>2</td>\n",
              "      <td>1</td>\n",
              "    </tr>\n",
              "    <tr>\n",
              "      <td>8</td>\n",
              "      <td>2024-12-09 15:54:04</td>\n",
              "      <td>2</td>\n",
              "      <td>6</td>\n",
              "    </tr>\n",
              "    <tr>\n",
              "      <td>9</td>\n",
              "      <td>2024-12-09 15:56:57</td>\n",
              "      <td>2</td>\n",
              "      <td>1</td>\n",
              "    </tr>\n",
              "    <tr>\n",
              "      <td>10</td>\n",
              "      <td>2024-12-09 15:56:57</td>\n",
              "      <td>2</td>\n",
              "      <td>6</td>\n",
              "    </tr>\n",
              "    <tr>\n",
              "      <td>11</td>\n",
              "      <td>2024-12-09 15:57:17</td>\n",
              "      <td>2</td>\n",
              "      <td>1</td>\n",
              "    </tr>\n",
              "    <tr>\n",
              "      <td>12</td>\n",
              "      <td>2024-12-09 15:57:17</td>\n",
              "      <td>2</td>\n",
              "      <td>6</td>\n",
              "    </tr>\n",
              "  </tbody>\n",
              "</table>"
            ]
          },
          "metadata": {}
        }
      ]
    },
    {
      "cell_type": "markdown",
      "source": [],
      "metadata": {
        "id": "aUky_fzcI-mY"
      }
    },
    {
      "cell_type": "code",
      "source": [
        "execute_sql(\"Song Details for New Recommendations\", \"\"\"\n",
        "SELECT R.recommendation_id, R.user_id, S.title, S.artist, S.genre\n",
        "FROM Recommendations R\n",
        "JOIN Songs S\n",
        "ON R.song_id = S.song_id\n",
        "WHERE R.user_id = 2;\n",
        "\"\"\")"
      ],
      "metadata": {
        "colab": {
          "base_uri": "https://localhost:8080/",
          "height": 443
        },
        "id": "8p7BDVoJI_DJ",
        "outputId": "a5d29083-2841-4a84-b215-04b46e310124"
      },
      "execution_count": 36,
      "outputs": [
        {
          "output_type": "display_data",
          "data": {
            "text/plain": [
              "<IPython.core.display.HTML object>"
            ],
            "text/html": [
              "<b><font color=Green>Song Details for New Recommendations</font></b><table border=\"1\" class=\"dataframe\">\n",
              "  <thead>\n",
              "    <tr style=\"text-align: right;\">\n",
              "      <th>recommendation_id</th>\n",
              "      <th>user_id</th>\n",
              "      <th>title</th>\n",
              "      <th>artist</th>\n",
              "      <th>genre</th>\n",
              "    </tr>\n",
              "  </thead>\n",
              "  <tbody>\n",
              "    <tr>\n",
              "      <td>1</td>\n",
              "      <td>2</td>\n",
              "      <td>Evermore</td>\n",
              "      <td>Taylor Swift</td>\n",
              "      <td>Pop</td>\n",
              "    </tr>\n",
              "    <tr>\n",
              "      <td>2</td>\n",
              "      <td>2</td>\n",
              "      <td>Yesterday</td>\n",
              "      <td>Beatles</td>\n",
              "      <td>Classic</td>\n",
              "    </tr>\n",
              "    <tr>\n",
              "      <td>3</td>\n",
              "      <td>2</td>\n",
              "      <td>Evermore</td>\n",
              "      <td>Taylor Swift</td>\n",
              "      <td>Pop</td>\n",
              "    </tr>\n",
              "    <tr>\n",
              "      <td>4</td>\n",
              "      <td>2</td>\n",
              "      <td>Yesterday</td>\n",
              "      <td>Beatles</td>\n",
              "      <td>Classic</td>\n",
              "    </tr>\n",
              "    <tr>\n",
              "      <td>5</td>\n",
              "      <td>2</td>\n",
              "      <td>Evermore</td>\n",
              "      <td>Taylor Swift</td>\n",
              "      <td>Pop</td>\n",
              "    </tr>\n",
              "    <tr>\n",
              "      <td>6</td>\n",
              "      <td>2</td>\n",
              "      <td>Yesterday</td>\n",
              "      <td>Beatles</td>\n",
              "      <td>Classic</td>\n",
              "    </tr>\n",
              "    <tr>\n",
              "      <td>7</td>\n",
              "      <td>2</td>\n",
              "      <td>Evermore</td>\n",
              "      <td>Taylor Swift</td>\n",
              "      <td>Pop</td>\n",
              "    </tr>\n",
              "    <tr>\n",
              "      <td>8</td>\n",
              "      <td>2</td>\n",
              "      <td>Yesterday</td>\n",
              "      <td>Beatles</td>\n",
              "      <td>Classic</td>\n",
              "    </tr>\n",
              "    <tr>\n",
              "      <td>9</td>\n",
              "      <td>2</td>\n",
              "      <td>Evermore</td>\n",
              "      <td>Taylor Swift</td>\n",
              "      <td>Pop</td>\n",
              "    </tr>\n",
              "    <tr>\n",
              "      <td>10</td>\n",
              "      <td>2</td>\n",
              "      <td>Yesterday</td>\n",
              "      <td>Beatles</td>\n",
              "      <td>Classic</td>\n",
              "    </tr>\n",
              "    <tr>\n",
              "      <td>11</td>\n",
              "      <td>2</td>\n",
              "      <td>Evermore</td>\n",
              "      <td>Taylor Swift</td>\n",
              "      <td>Pop</td>\n",
              "    </tr>\n",
              "    <tr>\n",
              "      <td>12</td>\n",
              "      <td>2</td>\n",
              "      <td>Yesterday</td>\n",
              "      <td>Beatles</td>\n",
              "      <td>Classic</td>\n",
              "    </tr>\n",
              "  </tbody>\n",
              "</table>"
            ]
          },
          "metadata": {}
        }
      ]
    },
    {
      "cell_type": "markdown",
      "source": [],
      "metadata": {
        "id": "pSWcMSrrJNGn"
      }
    },
    {
      "cell_type": "code",
      "source": [
        "# Genre-based recommendation query for Minnie\n",
        "grec_query = f\"\"\"\n",
        "SELECT DISTINCT S.song_id, S.title, S.genre\n",
        "FROM Songs S\n",
        "JOIN Listens L\n",
        "ON S.song_id = L.song_id\n",
        "WHERE S.genre = (\n",
        "    SELECT genre\n",
        "    FROM Songs\n",
        "    JOIN Listens\n",
        "    ON Songs.song_id = Listens.song_id\n",
        "    WHERE user_id = {2}\n",
        "    GROUP BY genre\n",
        "    ORDER BY COUNT(*) DESC\n",
        "    LIMIT 1\n",
        ")\n",
        "AND S.song_id NOT IN (\n",
        "    SELECT song_id\n",
        "    FROM Listens\n",
        "    WHERE user_id = {2}\n",
        ");\n",
        "\"\"\"\n",
        "\n",
        "# Execute the genre-based recommendation query\n",
        "execute_sql(\"Genre-Based Recommendations\", grec_query)\n"
      ],
      "metadata": {
        "colab": {
          "base_uri": "https://localhost:8080/",
          "height": 98
        },
        "id": "IZXX_5bKJNaJ",
        "outputId": "a10468d0-46e6-4a84-a09f-7de4f2fd1bc3"
      },
      "execution_count": 37,
      "outputs": [
        {
          "output_type": "display_data",
          "data": {
            "text/plain": [
              "<IPython.core.display.HTML object>"
            ],
            "text/html": [
              "<b><font color=Green>Genre-Based Recommendations</font></b><table border=\"1\" class=\"dataframe\">\n",
              "  <thead>\n",
              "    <tr style=\"text-align: right;\">\n",
              "      <th>song_id</th>\n",
              "      <th>title</th>\n",
              "      <th>genre</th>\n",
              "    </tr>\n",
              "  </thead>\n",
              "  <tbody>\n",
              "    <tr>\n",
              "      <td>6</td>\n",
              "      <td>Yesterday</td>\n",
              "      <td>Classic</td>\n",
              "    </tr>\n",
              "  </tbody>\n",
              "</table>"
            ]
          },
          "metadata": {}
        }
      ]
    },
    {
      "cell_type": "markdown",
      "source": [],
      "metadata": {
        "id": "OhhUq4kDJYX9"
      }
    },
    {
      "cell_type": "code",
      "source": [
        "new_rec_query = f\"\"\"\n",
        "INSERT INTO Recommendations (recommendation_time, user_id, song_id)\n",
        "SELECT CURRENT_TIMESTAMP, L.user_id, S.song_id\n",
        "FROM Songs S\n",
        "JOIN Listens L\n",
        "ON S.song_id = L.song_id\n",
        "WHERE S.song_id NOT IN (\n",
        "    SELECT song_id\n",
        "    FROM Listens\n",
        "    WHERE user_id = L.user_id\n",
        ")\n",
        "AND (L.rating >= 4.5 OR L.listen_time IS NOT NULL)  -- Prioritize high ratings or recent listens\n",
        "GROUP BY L.user_id, S.song_id\n",
        "ORDER BY L.rating DESC, L.listen_time DESC;\n",
        "\"\"\"\n",
        "runSql(\"Generate New Recommendations for Minnie\", new_rec_query)\n"
      ],
      "metadata": {
        "colab": {
          "base_uri": "https://localhost:8080/"
        },
        "id": "ISptOMqBJZxX",
        "outputId": "6693946c-d6c2-4d79-ce44-db0dceb96620"
      },
      "execution_count": 38,
      "outputs": [
        {
          "output_type": "stream",
          "name": "stdout",
          "text": [
            "Generate New Recommendations for Minnie: Query executed successfully.\n"
          ]
        }
      ]
    },
    {
      "cell_type": "markdown",
      "source": [],
      "metadata": {
        "id": "D9vvIAmzJgHZ"
      }
    },
    {
      "cell_type": "code",
      "source": [
        "execute_sql(\"Verify New Recommendations\", f\"\"\"\n",
        "SELECT *\n",
        "FROM Recommendations;\n",
        "\"\"\")"
      ],
      "metadata": {
        "colab": {
          "base_uri": "https://localhost:8080/",
          "height": 443
        },
        "id": "c4R_TBTFJgfA",
        "outputId": "bd557fc2-9bdd-483e-dd5d-a984d17e00b4"
      },
      "execution_count": 40,
      "outputs": [
        {
          "output_type": "display_data",
          "data": {
            "text/plain": [
              "<IPython.core.display.HTML object>"
            ],
            "text/html": [
              "<b><font color=Green>Verify New Recommendations</font></b><table border=\"1\" class=\"dataframe\">\n",
              "  <thead>\n",
              "    <tr style=\"text-align: right;\">\n",
              "      <th>recommendation_id</th>\n",
              "      <th>recommendation_time</th>\n",
              "      <th>user_id</th>\n",
              "      <th>song_id</th>\n",
              "    </tr>\n",
              "  </thead>\n",
              "  <tbody>\n",
              "    <tr>\n",
              "      <td>1</td>\n",
              "      <td>2024-12-09 15:40:21</td>\n",
              "      <td>2</td>\n",
              "      <td>1</td>\n",
              "    </tr>\n",
              "    <tr>\n",
              "      <td>2</td>\n",
              "      <td>2024-12-09 15:40:21</td>\n",
              "      <td>2</td>\n",
              "      <td>6</td>\n",
              "    </tr>\n",
              "    <tr>\n",
              "      <td>3</td>\n",
              "      <td>2024-12-09 15:52:21</td>\n",
              "      <td>2</td>\n",
              "      <td>1</td>\n",
              "    </tr>\n",
              "    <tr>\n",
              "      <td>4</td>\n",
              "      <td>2024-12-09 15:52:21</td>\n",
              "      <td>2</td>\n",
              "      <td>6</td>\n",
              "    </tr>\n",
              "    <tr>\n",
              "      <td>5</td>\n",
              "      <td>2024-12-09 15:52:55</td>\n",
              "      <td>2</td>\n",
              "      <td>1</td>\n",
              "    </tr>\n",
              "    <tr>\n",
              "      <td>6</td>\n",
              "      <td>2024-12-09 15:52:55</td>\n",
              "      <td>2</td>\n",
              "      <td>6</td>\n",
              "    </tr>\n",
              "    <tr>\n",
              "      <td>7</td>\n",
              "      <td>2024-12-09 15:54:04</td>\n",
              "      <td>2</td>\n",
              "      <td>1</td>\n",
              "    </tr>\n",
              "    <tr>\n",
              "      <td>8</td>\n",
              "      <td>2024-12-09 15:54:04</td>\n",
              "      <td>2</td>\n",
              "      <td>6</td>\n",
              "    </tr>\n",
              "    <tr>\n",
              "      <td>9</td>\n",
              "      <td>2024-12-09 15:56:57</td>\n",
              "      <td>2</td>\n",
              "      <td>1</td>\n",
              "    </tr>\n",
              "    <tr>\n",
              "      <td>10</td>\n",
              "      <td>2024-12-09 15:56:57</td>\n",
              "      <td>2</td>\n",
              "      <td>6</td>\n",
              "    </tr>\n",
              "    <tr>\n",
              "      <td>11</td>\n",
              "      <td>2024-12-09 15:57:17</td>\n",
              "      <td>2</td>\n",
              "      <td>1</td>\n",
              "    </tr>\n",
              "    <tr>\n",
              "      <td>12</td>\n",
              "      <td>2024-12-09 15:57:17</td>\n",
              "      <td>2</td>\n",
              "      <td>6</td>\n",
              "    </tr>\n",
              "  </tbody>\n",
              "</table>"
            ]
          },
          "metadata": {}
        }
      ]
    },
    {
      "cell_type": "code",
      "source": [
        "execute_sql(\"Verify New Recommendations\", f\"\"\"\n",
        "SELECT R.recommendation_id, S.title, S.artist, S.genre\n",
        "FROM Recommendations R\n",
        "JOIN Songs S\n",
        "ON R.song_id = S.song_id;\n",
        "\"\"\")"
      ],
      "metadata": {
        "colab": {
          "base_uri": "https://localhost:8080/",
          "height": 443
        },
        "id": "H7d5Lzp2Jm6A",
        "outputId": "707db2c0-bb36-47af-a62e-3f53ad3154c4"
      },
      "execution_count": 41,
      "outputs": [
        {
          "output_type": "display_data",
          "data": {
            "text/plain": [
              "<IPython.core.display.HTML object>"
            ],
            "text/html": [
              "<b><font color=Green>Verify New Recommendations</font></b><table border=\"1\" class=\"dataframe\">\n",
              "  <thead>\n",
              "    <tr style=\"text-align: right;\">\n",
              "      <th>recommendation_id</th>\n",
              "      <th>title</th>\n",
              "      <th>artist</th>\n",
              "      <th>genre</th>\n",
              "    </tr>\n",
              "  </thead>\n",
              "  <tbody>\n",
              "    <tr>\n",
              "      <td>1</td>\n",
              "      <td>Evermore</td>\n",
              "      <td>Taylor Swift</td>\n",
              "      <td>Pop</td>\n",
              "    </tr>\n",
              "    <tr>\n",
              "      <td>2</td>\n",
              "      <td>Yesterday</td>\n",
              "      <td>Beatles</td>\n",
              "      <td>Classic</td>\n",
              "    </tr>\n",
              "    <tr>\n",
              "      <td>3</td>\n",
              "      <td>Evermore</td>\n",
              "      <td>Taylor Swift</td>\n",
              "      <td>Pop</td>\n",
              "    </tr>\n",
              "    <tr>\n",
              "      <td>4</td>\n",
              "      <td>Yesterday</td>\n",
              "      <td>Beatles</td>\n",
              "      <td>Classic</td>\n",
              "    </tr>\n",
              "    <tr>\n",
              "      <td>5</td>\n",
              "      <td>Evermore</td>\n",
              "      <td>Taylor Swift</td>\n",
              "      <td>Pop</td>\n",
              "    </tr>\n",
              "    <tr>\n",
              "      <td>6</td>\n",
              "      <td>Yesterday</td>\n",
              "      <td>Beatles</td>\n",
              "      <td>Classic</td>\n",
              "    </tr>\n",
              "    <tr>\n",
              "      <td>7</td>\n",
              "      <td>Evermore</td>\n",
              "      <td>Taylor Swift</td>\n",
              "      <td>Pop</td>\n",
              "    </tr>\n",
              "    <tr>\n",
              "      <td>8</td>\n",
              "      <td>Yesterday</td>\n",
              "      <td>Beatles</td>\n",
              "      <td>Classic</td>\n",
              "    </tr>\n",
              "    <tr>\n",
              "      <td>9</td>\n",
              "      <td>Evermore</td>\n",
              "      <td>Taylor Swift</td>\n",
              "      <td>Pop</td>\n",
              "    </tr>\n",
              "    <tr>\n",
              "      <td>10</td>\n",
              "      <td>Yesterday</td>\n",
              "      <td>Beatles</td>\n",
              "      <td>Classic</td>\n",
              "    </tr>\n",
              "    <tr>\n",
              "      <td>11</td>\n",
              "      <td>Evermore</td>\n",
              "      <td>Taylor Swift</td>\n",
              "      <td>Pop</td>\n",
              "    </tr>\n",
              "    <tr>\n",
              "      <td>12</td>\n",
              "      <td>Yesterday</td>\n",
              "      <td>Beatles</td>\n",
              "      <td>Classic</td>\n",
              "    </tr>\n",
              "  </tbody>\n",
              "</table>"
            ]
          },
          "metadata": {}
        }
      ]
    },
    {
      "cell_type": "markdown",
      "source": [
        "Task #5: Differences Between Static and Listen Time/Rating-Based Recommendations"
      ],
      "metadata": {
        "id": "fzpuLqSVJrsY"
      }
    },
    {
      "cell_type": "code",
      "source": [
        "dy_rec_wsong_nm = \"\"\"\n",
        "WITH song_popularity AS (\n",
        "    SELECT song_id, AVG(listen_time) AS avg_listen_time, COUNT(user_id) AS total_listens\n",
        "    FROM Listens\n",
        "    GROUP BY song_id\n",
        "    HAVING COUNT(user_id) > 1  -- Songs listened to by more than 1 user\n",
        "),\n",
        "user_recommendations AS (\n",
        "    SELECT DISTINCT u.user_id, sp.song_id, s.title AS song_name\n",
        "    FROM Users u\n",
        "    CROSS JOIN song_popularity sp\n",
        "    JOIN Songs s ON sp.song_id = s.song_id\n",
        "    WHERE sp.song_id NOT IN (\n",
        "        SELECT song_id\n",
        "        FROM Listens\n",
        "        WHERE user_id = u.user_id\n",
        "    )\n",
        "    ORDER BY sp.avg_listen_time DESC, sp.total_listens DESC\n",
        ")\n",
        "SELECT user_id, song_id, song_name FROM user_recommendations;\n",
        "\"\"\"\n",
        "runSql(\"Dynamic Recommendations with Song Names\", dy_rec_wsong_nm)"
      ],
      "metadata": {
        "id": "wVxQHJD3JrNA"
      },
      "execution_count": null,
      "outputs": []
    }
  ]
}